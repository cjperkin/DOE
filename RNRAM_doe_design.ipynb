{
 "cells": [
  {
   "cell_type": "markdown",
   "metadata": {},
   "source": [
    "# Generating Design Points File for sample RNRAM sensitivity DOE\n",
    "March 30, 2015\n",
    "\n",
    "\n",
    "Pacific Northwest National Laboratory"
   ]
  },
  {
   "cell_type": "markdown",
   "metadata": {},
   "source": [
    "### Import Modules\n",
    "The following statements import the Python modules required."
   ]
  },
  {
   "cell_type": "code",
   "execution_count": 1,
   "metadata": {
    "collapsed": false
   },
   "outputs": [],
   "source": [
    "# for read/write csv:\n",
    "import numpy as np\n",
    "import itertools as it\n",
    "import csv"
   ]
  },
  {
   "cell_type": "markdown",
   "metadata": {},
   "source": [
    "### General approach\n",
    "Use itertools product to produce all combinations across n sets of factor families\n",
    "Itertool chain can concatenate new header string from header from all design files"
   ]
  },
  {
   "cell_type": "code",
   "execution_count": 10,
   "metadata": {
    "collapsed": false
   },
   "outputs": [
    {
     "name": "stdout",
     "output_type": "stream",
     "text": [
      "{'a': array([(1.0, 2.0, 3.0, 4.0), (5.0, 6.0, 7.0, 8.0)], \n",
      "      dtype=[('k_LC_ny', '<f8'), ('theta_LC_ny', '<f8'), ('k_LC_SF', '<f8'), ('theta_LC_sf', '<f8')]), 'c': array([(21.0, 22.0, 23.0, 24.0), (25.0, 26.0, 27.0, 28.0)], \n",
      "      dtype=[('f1', '<f8'), ('g1', '<f8'), ('f2', '<f8'), ('g2', '<f8')]), 'b': array([(11.0, 12.0, 13.0, 14.0), (15.0, 16.0, 17.0, 18.0)], \n",
      "      dtype=[('a1', '<f8'), ('b1', '<f8'), ('a2', '<f8'), ('b2', '<f8')])}\n"
     ]
    }
   ],
   "source": [
    "# Setup list of files to import\n",
    "design_list = {'a' : 'design_A.csv',\n",
    "               'b' : 'design_B.csv',\n",
    "               'c' : 'design_C.csv'   \n",
    "              }\n",
    "# Create a dictionary and populate with numpy arrays from imported files \n",
    "my_designs={}\n",
    "\n",
    "for i in design_list:\n",
    "    my_designs[i] = np.genfromtxt(design_list[i],missing_values=0,delimiter=',',skip_header=0,dtype=float,names=True)\n",
    "    \n",
    "#print my_designs"
   ]
  },
  {
   "cell_type": "code",
   "execution_count": 11,
   "metadata": {
    "collapsed": false
   },
   "outputs": [
    {
     "name": "stdout",
     "output_type": "stream",
     "text": [
      "k_LC_ny,theta_LC_ny,k_LC_SF,theta_LC_sf,f1,g1,f2,g2,a1,b1,a2,b2\n"
     ]
    }
   ],
   "source": [
    "# For each file/design capture header\n",
    "hdr_list = []\n",
    "\n",
    "for i in my_designs:\n",
    "    hdr = my_designs[i].dtype.names\n",
    "    hdr_list.append(hdr)\n",
    "\n",
    "# Concatenate all headers together into single string - for savetxt header string    \n",
    "header = ','.join(it.chain(*hdr_list))\n",
    "\n",
    "#print header"
   ]
  },
  {
   "cell_type": "code",
   "execution_count": 12,
   "metadata": {
    "collapsed": false
   },
   "outputs": [
    {
     "data": {
      "text/plain": [
       "[[1.0, 2.0, 3.0, 4.0, 21.0, 22.0, 23.0, 24.0, 11.0, 12.0, 13.0, 14.0],\n",
       " [1.0, 2.0, 3.0, 4.0, 21.0, 22.0, 23.0, 24.0, 15.0, 16.0, 17.0, 18.0],\n",
       " [1.0, 2.0, 3.0, 4.0, 25.0, 26.0, 27.0, 28.0, 11.0, 12.0, 13.0, 14.0],\n",
       " [1.0, 2.0, 3.0, 4.0, 25.0, 26.0, 27.0, 28.0, 15.0, 16.0, 17.0, 18.0],\n",
       " [5.0, 6.0, 7.0, 8.0, 21.0, 22.0, 23.0, 24.0, 11.0, 12.0, 13.0, 14.0],\n",
       " [5.0, 6.0, 7.0, 8.0, 21.0, 22.0, 23.0, 24.0, 15.0, 16.0, 17.0, 18.0],\n",
       " [5.0, 6.0, 7.0, 8.0, 25.0, 26.0, 27.0, 28.0, 11.0, 12.0, 13.0, 14.0],\n",
       " [5.0, 6.0, 7.0, 8.0, 25.0, 26.0, 27.0, 28.0, 15.0, 16.0, 17.0, 18.0]]"
      ]
     },
     "execution_count": 12,
     "metadata": {},
     "output_type": "execute_result"
    }
   ],
   "source": [
    "# Generate list of designs \n",
    "des_list = []\n",
    "\n",
    "for i in my_designs:\n",
    "    des = my_designs[i]\n",
    "    des_list.append(des)\n",
    "    \n",
    "# Save array of all combinations between designs using itertools product\n",
    "output = []\n",
    "for Tuple in it.product(*des_list):\n",
    "    exp = [item for List in Tuple for item in List]\n",
    "    output.append(exp)\n",
    "\n",
    "#output"
   ]
  },
  {
   "cell_type": "code",
   "execution_count": 5,
   "metadata": {
    "collapsed": false
   },
   "outputs": [],
   "source": [
    "# Save output to csv, with headers\n",
    "np.savetxt('experiments.csv', output, fmt='%.3f',delimiter=',', header=header, comments='')"
   ]
  },
  {
   "cell_type": "code",
   "execution_count": 13,
   "metadata": {
    "collapsed": false
   },
   "outputs": [
    {
     "name": "stdout",
     "output_type": "stream",
     "text": [
      "8\n"
     ]
    }
   ],
   "source": [
    "row_count = sum(1 for row in csv.reader( open('experiments.csv') ) ) - 1\n",
    "\n",
    "print row_count"
   ]
  },
  {
   "cell_type": "code",
   "execution_count": null,
   "metadata": {
    "collapsed": true
   },
   "outputs": [],
   "source": []
  }
 ],
 "metadata": {
  "kernelspec": {
   "display_name": "Python 2",
   "language": "python",
   "name": "python2"
  },
  "language_info": {
   "codemirror_mode": {
    "name": "ipython",
    "version": 2
   },
   "file_extension": ".py",
   "mimetype": "text/x-python",
   "name": "python",
   "nbconvert_exporter": "python",
   "pygments_lexer": "ipython2",
   "version": "2.7.7"
  }
 },
 "nbformat": 4,
 "nbformat_minor": 0
}
